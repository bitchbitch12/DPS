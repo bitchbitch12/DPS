{
  "nbformat": 4,
  "nbformat_minor": 0,
  "metadata": {
    "colab": {
      "provenance": []
    },
    "kernelspec": {
      "name": "python3",
      "display_name": "Python 3"
    },
    "language_info": {
      "name": "python"
    }
  },
  "cells": [
    {
      "cell_type": "code",
      "source": [
        "alphabets = dict()\n",
        "for i in range(0, 26):\n",
        "  character = chr(i + 97)\n",
        "  if character not in alphabets:\n",
        "    alphabets[character] = i"
      ],
      "metadata": {
        "id": "oMWp14kNC5lq"
      },
      "execution_count": null,
      "outputs": []
    },
    {
      "cell_type": "markdown",
      "source": [
        "#1"
      ],
      "metadata": {
        "id": "s8ClK5vbCw8w"
      }
    },
    {
      "cell_type": "markdown",
      "source": [
        "##a)"
      ],
      "metadata": {
        "id": "nstY2n4tC0o0"
      }
    },
    {
      "cell_type": "code",
      "execution_count": null,
      "metadata": {
        "id": "T-_EXnsCCuF_"
      },
      "outputs": [],
      "source": [
        "def additive_encrypt(plain_text, key):\n",
        "  cipher_text = ''\n",
        "  for letter in plain_text:\n",
        "     value = (alphabets[letter] + key) % 26\n",
        "     cipher_text += (list(alphabets.keys())[list(alphabets.values()).index(value)])\n",
        "  return cipher_text\n",
        "\n",
        "def additive_decrypt(cipher_text, key):\n",
        "  plain_text = ''\n",
        "  for letter in cipher_text:\n",
        "    value = (alphabets[letter] - key) % 26\n",
        "    plain_text += (list(alphabets.keys())[list(alphabets.values()).index(value)])\n",
        "  return plain_text"
      ]
    },
    {
      "cell_type": "code",
      "source": [
        "text, key = \"thisisanexercise\", 20\n",
        "cipher_text = additive_encrypt(text, key)\n",
        "plain_text = additive_decrypt(cipher_text, key)\n",
        "print(text, end = \" -> \")\n",
        "print(cipher_text, end = \" -> \")\n",
        "print(plain_text)"
      ],
      "metadata": {
        "colab": {
          "base_uri": "https://localhost:8080/"
        },
        "id": "UWj9XNlXC6Ul",
        "outputId": "5a3b5e44-a0f3-4a62-ab49-2ab23ffa1741"
      },
      "execution_count": null,
      "outputs": [
        {
          "output_type": "stream",
          "name": "stdout",
          "text": [
            "thisisanexercise -> nbcmcmuhyrylwcmy -> thisisanexercise\n"
          ]
        }
      ]
    },
    {
      "cell_type": "markdown",
      "source": [
        "##b)"
      ],
      "metadata": {
        "id": "6edFah54DC6h"
      }
    },
    {
      "cell_type": "code",
      "source": [
        "from sympy import mod_inverse"
      ],
      "metadata": {
        "id": "Cx5ceiudDFv_"
      },
      "execution_count": null,
      "outputs": []
    },
    {
      "cell_type": "code",
      "source": [
        "def multiplicative_encrypt(plain_text, key):\n",
        "  cipher_text = ''\n",
        "  for letter in plain_text:\n",
        "     value = (alphabets[letter] * key) % 26\n",
        "     cipher_text += (list(alphabets.keys())[list(alphabets.values()).index(value)])\n",
        "  return cipher_text\n",
        "\n",
        "def multiplicative_decrypt(cipher_text, key):\n",
        "  plain_text = ''\n",
        "  for letter in cipher_text:\n",
        "    value = (alphabets[letter] * mod_inverse(key, 26)) % 26\n",
        "    plain_text += (list(alphabets.keys())[list(alphabets.values()).index(value)])\n",
        "  return plain_text"
      ],
      "metadata": {
        "id": "9VjyS5sUC_Ey"
      },
      "execution_count": null,
      "outputs": []
    },
    {
      "cell_type": "code",
      "source": [
        "text, key = \"thisisanexercise\", 15\n",
        "cipher_text = multiplicative_encrypt(text, key)\n",
        "plain_text = multiplicative_decrypt(cipher_text, key)\n",
        "print(text, end = \" -> \")\n",
        "print(cipher_text, end = \" -> \")\n",
        "print(plain_text)"
      ],
      "metadata": {
        "colab": {
          "base_uri": "https://localhost:8080/"
        },
        "id": "trfaDHxrDG7P",
        "outputId": "0da8e3ef-5f20-49d1-95ff-8ea2996ba378"
      },
      "execution_count": null,
      "outputs": [
        {
          "output_type": "stream",
          "name": "stdout",
          "text": [
            "thisisanexercise -> zbqkqkanihiveqki -> thisisanexercise\n"
          ]
        }
      ]
    },
    {
      "cell_type": "markdown",
      "source": [
        "##c)"
      ],
      "metadata": {
        "id": "huc8ZdynDLpi"
      }
    },
    {
      "cell_type": "code",
      "source": [
        "def affine_encrypt(plain_text, key1, key2):\n",
        "  cipher_text = ''\n",
        "  for letter in plain_text:\n",
        "    value = (alphabets[letter] * key1 + key2) % 26\n",
        "    cipher_text += (list(alphabets.keys())[list(alphabets.values()).index(value)])\n",
        "  return cipher_text\n",
        "\n",
        "def affine_decrypt(cipher_text, key1, key2):\n",
        "  plain_text = ''\n",
        "  for letter in cipher_text:\n",
        "    value = ((alphabets[letter] - key2) * mod_inverse(key1, 26)) % 26\n",
        "    plain_text += (list(alphabets.keys())[list(alphabets.values()).index(value)])\n",
        "  return plain_text"
      ],
      "metadata": {
        "id": "uUzASsO6DJpf"
      },
      "execution_count": null,
      "outputs": []
    },
    {
      "cell_type": "code",
      "source": [
        "text, key1, key2 = 'thisisanexercise', 15, 20\n",
        "cipher_text = affine_encrypt(text, key1, key2)\n",
        "plain_text = affine_decrypt(cipher_text, key1, key2)\n",
        "print(text, end = \" -> \")\n",
        "print(cipher_text, end = \" -> \")\n",
        "print(plain_text)"
      ],
      "metadata": {
        "colab": {
          "base_uri": "https://localhost:8080/"
        },
        "id": "XBfA3Tq8DOXL",
        "outputId": "b43346d4-9b06-43f8-aea2-122fb62a516e"
      },
      "execution_count": null,
      "outputs": [
        {
          "output_type": "stream",
          "name": "stdout",
          "text": [
            "thisisanexercise -> tvkekeuhcbcpykec -> thisisanexercise\n"
          ]
        }
      ]
    },
    {
      "cell_type": "markdown",
      "source": [
        "##d)"
      ],
      "metadata": {
        "id": "bj4zvZqCDVSD"
      }
    },
    {
      "cell_type": "code",
      "source": [
        "def autokey_encrypt(plain_text, key1):\n",
        "  keystream, cipher_text = [], ''\n",
        "  keystream.append(key1)\n",
        "  value1 = (alphabets[plain_text[0]] + key1) % 26\n",
        "  cipher_text += (list(alphabets.keys())[list(alphabets.values()).index(value1)])\n",
        "  for i in range(1, len(plain_text)):\n",
        "    keystream.append(alphabets[plain_text[i-1]])\n",
        "    value = (alphabets[plain_text[i]] + alphabets[plain_text[i-1]]) % 26\n",
        "    cipher_text += (list(alphabets.keys())[list(alphabets.values()).index(value)])\n",
        "  return cipher_text, keystream\n",
        "\n",
        "def autokey_decrypt(cipher_text, keystream):\n",
        "  plain_text = ''\n",
        "  for i in range(len(cipher_text)):\n",
        "    value = (alphabets[cipher_text[i]] - keystream[i]) % 26\n",
        "    plain_text += (list(alphabets.keys())[list(alphabets.values()).index(value)])\n",
        "  return plain_text"
      ],
      "metadata": {
        "id": "hPeA_yOgDShU"
      },
      "execution_count": null,
      "outputs": []
    },
    {
      "cell_type": "code",
      "source": [
        "text, key1 = 'thisisanexercise', 7\n",
        "cipher_text, keystream = autokey_encrypt(text, key1)\n",
        "plain_text = autokey_decrypt(cipher_text, keystream)\n",
        "print(text, end = \" -> \")\n",
        "print(cipher_text, end = \" -> \")\n",
        "print(plain_text)"
      ],
      "metadata": {
        "colab": {
          "base_uri": "https://localhost:8080/"
        },
        "id": "Y_xYo07JDZMK",
        "outputId": "e9b92998-81f6-4b98-ba5c-0002a3e9923c"
      },
      "execution_count": null,
      "outputs": [
        {
          "output_type": "stream",
          "name": "stdout",
          "text": [
            "thisisanexercise -> aapaaasnrbbvtkaw -> thisisanexercise\n"
          ]
        }
      ]
    },
    {
      "cell_type": "markdown",
      "source": [
        "#2"
      ],
      "metadata": {
        "id": "5yMXKDX7K6Mq"
      }
    },
    {
      "cell_type": "code",
      "source": [
        "def additive_decrypt(cipher_text, key):\n",
        "  plain_text = ''\n",
        "  for letter in cipher_text:\n",
        "    value = (alphabets[letter] - key) % 26\n",
        "    plain_text += (list(alphabets.keys())[list(alphabets.values()).index(value)])\n",
        "  return plain_text"
      ],
      "metadata": {
        "id": "GvgaZGTBK7Ib"
      },
      "execution_count": null,
      "outputs": []
    },
    {
      "cell_type": "code",
      "source": [
        "for key in range(9, 15):\n",
        "  cipher_text = \"NCJAEZRCLASJLYODEPRLYZRCLASJLCPEHZDTOPDZQLNZTY\".lower()\n",
        "  plain_text = additive_decrypt(cipher_text, key)\n",
        "  print(key, end = \" -> \")\n",
        "  print(plain_text)"
      ],
      "metadata": {
        "colab": {
          "base_uri": "https://localhost:8080/"
        },
        "id": "mBcJgCMLLDqq",
        "outputId": "6b48fd77-c1dd-4455-d409-205671303c72"
      },
      "execution_count": null,
      "outputs": [
        {
          "output_type": "stream",
          "name": "stdout",
          "text": [
            "9 -> etarvqitcrjacpfuvgicpqitcrjactgvyqukfguqhceqkp\n",
            "10 -> dszquphsbqizboetufhbophsbqizbsfuxptjeftpgbdpjo\n",
            "11 -> cryptographyandsteganographyaretwosidesofacoin\n",
            "12 -> bqxosnfqzogxzmcrsdfzmnfqzogxzqdsvnrhcdrnezbnhm\n",
            "13 -> apwnrmepynfwylbqrceylmepynfwypcrumqgbcqmdyamgl\n",
            "14 -> zovmqldoxmevxkapqbdxkldoxmevxobqtlpfabplcxzlfk\n"
          ]
        }
      ]
    },
    {
      "cell_type": "markdown",
      "source": [
        "#3"
      ],
      "metadata": {
        "id": "ibko_-WRLec-"
      }
    },
    {
      "cell_type": "code",
      "source": [],
      "metadata": {
        "id": "IN9WbuNWLfW6"
      },
      "execution_count": null,
      "outputs": []
    },
    {
      "cell_type": "markdown",
      "source": [
        "#4"
      ],
      "metadata": {
        "id": "J1X9ROhZDp5T"
      }
    },
    {
      "cell_type": "code",
      "source": [
        "from collections import defaultdict"
      ],
      "metadata": {
        "id": "fA8bUTOUEFfV"
      },
      "execution_count": null,
      "outputs": []
    },
    {
      "cell_type": "code",
      "source": [
        "def find_decryptkey(key_stream):\n",
        "  key_dict = defaultdict(int)\n",
        "  for i in range(len(key_stream)):\n",
        "    key_dict[key_stream[i]] = i+1\n",
        "\n",
        "  keys = list(key_dict.keys())\n",
        "  keys.sort()\n",
        "  key_dict = {i: key_dict[i] for i in keys}\n",
        "  return key_dict.values()"
      ],
      "metadata": {
        "id": "yke-ngv8Dcvv"
      },
      "execution_count": null,
      "outputs": []
    },
    {
      "cell_type": "code",
      "source": [
        "key_stream = [3, 2, 6, 1, 5, 4]\n",
        "find_decryptkey(key_stream)"
      ],
      "metadata": {
        "colab": {
          "base_uri": "https://localhost:8080/"
        },
        "id": "sttKi3ZxELWM",
        "outputId": "c89a293c-fc2d-44ea-cf37-095b1302cfb0"
      },
      "execution_count": null,
      "outputs": [
        {
          "output_type": "execute_result",
          "data": {
            "text/plain": [
              "dict_values([4, 2, 1, 6, 5, 3])"
            ]
          },
          "metadata": {},
          "execution_count": 21
        }
      ]
    },
    {
      "cell_type": "markdown",
      "source": [
        "#5"
      ],
      "metadata": {
        "id": "QKqDG9nTE1_X"
      }
    },
    {
      "cell_type": "code",
      "source": [
        "def transpose(matrix):\n",
        "  temp_Matrix = [['']*len(matrix) for j in range(len(matrix[0]))]\n",
        "  for i in range(len(matrix)):\n",
        "    for j in range(len(matrix[0])):\n",
        "      temp_Matrix[j][i] = matrix[i][j]\n",
        "  return temp_Matrix"
      ],
      "metadata": {
        "id": "NHzxeCDKGrOY"
      },
      "execution_count": null,
      "outputs": []
    },
    {
      "cell_type": "code",
      "source": [
        "def transpose_encrypt(plain_text, key_stream, block_size):\n",
        "  res, cipher_text = [], ''\n",
        "  plain_text = plain_text.replace(' ', '')\n",
        "  for i in range(0, len(plain_text), block_size):\n",
        "    blocked_text = plain_text[i:i+block_size]\n",
        "    if len(blocked_text) != block_size:\n",
        "      blocked_text += 'z'*(block_size - len(blocked_text))\n",
        "    res1 = list(blocked_text)\n",
        "    res.append(res1)\n",
        "\n",
        "  key_encrypted = []\n",
        "  for i in range(len(res)):\n",
        "    temp = []\n",
        "    for j in key_stream.keys():\n",
        "        temp.append(res[i][j-1])\n",
        "    key_encrypted.append(temp)\n",
        "  for res in transpose(key_encrypted):\n",
        "    cipher_text += ''.join(res)\n",
        "\n",
        "  return cipher_text"
      ],
      "metadata": {
        "id": "XpaELIMzGb6A"
      },
      "execution_count": null,
      "outputs": []
    },
    {
      "cell_type": "code",
      "source": [
        "def find_decryptkey(key_stream):\n",
        "  keys = list(key_stream.keys())\n",
        "  keys.sort()\n",
        "  key_dict = {i: key_stream[i] for i in keys}\n",
        "  return key_dict\n",
        "\n",
        "def transpose_decrypt(cipher_text, key_stream, block_size):\n",
        "  plain_text = ''\n",
        "  row_size = len(cipher_text) // block_size\n",
        "  col_mat = [['']*block_size for i in range(row_size)]\n",
        "  k = 0\n",
        "  for i in range(block_size):\n",
        "    for j in range(row_size):\n",
        "      col_mat[j][i] = cipher_text[k]\n",
        "      k += 1\n",
        "\n",
        "  plain_mat = [['']*block_size for i in range(row_size)]\n",
        "  key_decrypted = find_decryptkey(key_stream)\n",
        "  keys = list(key_decrypted.values())\n",
        "  for i in range(row_size):\n",
        "    for j in range(block_size):\n",
        "      plain_mat[i][j] = col_mat[i][keys[j]-1]\n",
        "      plain_text += col_mat[i][keys[j]-1]\n",
        "\n",
        "  return plain_text"
      ],
      "metadata": {
        "id": "i6Mq9qSEWTo8"
      },
      "execution_count": null,
      "outputs": []
    },
    {
      "cell_type": "code",
      "source": [
        "def double_transpose_encrypt(text, key_stream, block_size):\n",
        "  encrypt1 = transpose_encrypt(text, key_stream, block_size)\n",
        "  cipher_text = transpose_encrypt(encrypt1, key_stream, block_size)\n",
        "  return cipher_text\n",
        "\n",
        "def double_transpose_decrypt(cipher_text, key_stream, block_size):\n",
        "  decrypt1 = transpose_decrypt(cipher_text, key_stream, block_size)\n",
        "  plain_text = transpose_decrypt(decrypt1, key_stream, block_size)\n",
        "  return plain_text"
      ],
      "metadata": {
        "id": "Az47-Wa_ExGK"
      },
      "execution_count": null,
      "outputs": []
    },
    {
      "cell_type": "code",
      "source": [
        "key_stream = {3:1, 1:2, 4:3, 5:4, 2:5}\n",
        "text = 'enemy attacks tonight'\n",
        "block_size = 5\n",
        "cipher_text = double_transpose_encrypt(text, key_stream, block_size)\n",
        "plain_text = double_transpose_decrypt(cipher_text, key_stream, block_size)\n",
        "print(text, end = \" -> \")\n",
        "print(cipher_text, end = \" -> \")\n",
        "print(plain_text)"
      ],
      "metadata": {
        "colab": {
          "base_uri": "https://localhost:8080/"
        },
        "id": "9d6QY77OQpBg",
        "outputId": "c12bbde8-662d-4ff1-a7fe-e954ffc9770e"
      },
      "execution_count": null,
      "outputs": [
        {
          "output_type": "stream",
          "name": "stdout",
          "text": [
            "enemy attacks tonight -> tiyteaozhmcseangtktn -> enemyattackstonightz\n"
          ]
        }
      ]
    },
    {
      "cell_type": "markdown",
      "source": [
        "#6"
      ],
      "metadata": {
        "id": "YI2bbcvVFvLR"
      }
    },
    {
      "cell_type": "code",
      "source": [
        "def double_transpose_encrypt_mod(text, key_stream, block_size, rounds):\n",
        "  for i in range(rounds):\n",
        "    text = transpose_encrypt(text, key_stream, block_size)\n",
        "  return text\n",
        "\n",
        "def double_transpose_decrypt_mod(cipher_text, key_stream, block_size, rounds):\n",
        "  for i in range(rounds):\n",
        "    cipher_text = transpose_decrypt(cipher_text, key_stream, block_size)\n",
        "  return cipher_text"
      ],
      "metadata": {
        "id": "prUU1maXHI9g"
      },
      "execution_count": null,
      "outputs": []
    },
    {
      "cell_type": "code",
      "source": [
        "key_stream = {3:1, 1:2, 4:3, 5:4, 2:5}\n",
        "text = 'enemy attacks tonight'\n",
        "block_size = 5\n",
        "rounds = 5\n",
        "cipher_text = double_transpose_encrypt_mod(text, key_stream, block_size, rounds)\n",
        "plain_text = double_transpose_decrypt_mod(cipher_text, key_stream, block_size, rounds)\n",
        "print(text, end = \" -> \")\n",
        "print(cipher_text, end = \" -> \")\n",
        "print(plain_text)"
      ],
      "metadata": {
        "colab": {
          "base_uri": "https://localhost:8080/"
        },
        "id": "JJxap0WhFyAx",
        "outputId": "c716c1f1-3b20-4553-ff41-a1de69b73603"
      },
      "execution_count": null,
      "outputs": [
        {
          "output_type": "stream",
          "name": "stdout",
          "text": [
            "enemy attacks tonight -> entceamtokhtytnigasz -> enemyattackstonightz\n"
          ]
        }
      ]
    }
  ]
}
